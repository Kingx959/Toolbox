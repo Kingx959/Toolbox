{
 "cells": [
  {
   "cell_type": "markdown",
   "id": "67c0bd97",
   "metadata": {},
   "source": [
    "# code for screening and cleaning data\n",
    "## box plots and corr matrix also found individually below"
   ]
  },
  {
   "cell_type": "code",
   "execution_count": null,
   "id": "511ff4cb",
   "metadata": {},
   "outputs": [],
   "source": [
    "import pandas as pd\n",
    "import numpy as np\n",
    "import matplotlib.pyplot as plt\n",
    "import seaborn as sns\n",
    "\n",
    "# Load your dataset into a pandas DataFrame\n",
    "data = pd.read_csv('your_data.csv')\n",
    "\n",
    "# Data Screening\n",
    "\n",
    "# Display basic information about the dataset\n",
    "print(data.info())\n",
    "\n",
    "# Display the first few rows of the dataset\n",
    "print(data.head())\n",
    "\n",
    "# Check for missing values\n",
    "missing_values = data.isnull().sum()\n",
    "print(missing_values)\n",
    "\n",
    "# Check for duplicate rows\n",
    "duplicates = data.duplicated().sum()\n",
    "print(\"Number of duplicate rows:\", duplicates)\n",
    "\n",
    "# Summary statistics\n",
    "summary_stats = data.describe()\n",
    "print(summary_stats)\n",
    "\n",
    "# Visualize distribution of numeric columns using histograms\n",
    "data.hist(figsize=(10, 8))\n",
    "plt.show()\n",
    "\n",
    "# Visualize correlation between numeric variables using a heatmap\n",
    "correlation_matrix = data.corr()\n",
    "plt.figure(figsize=(10, 8))\n",
    "sns.heatmap(correlation_matrix, annot=True, cmap='coolwarm', fmt=\".2f\")\n",
    "plt.title(\"Correlation Heatmap\")\n",
    "plt.show()\n",
    "\n",
    "# Data Cleaning\n",
    "\n",
    "# Remove duplicate rows\n",
    "data.drop_duplicates(inplace=True)\n",
    "\n",
    "# Impute missing values with median for numeric columns\n",
    "numeric_columns = data.select_dtypes(include=np.number).columns\n",
    "data[numeric_columns] = data[numeric_columns].fillna(data[numeric_columns].median())\n",
    "\n",
    "# Handle outliers using IQR method\n",
    "for column in numeric_columns:\n",
    "    Q1 = data[column].quantile(0.25)\n",
    "    Q3 = data[column].quantile(0.75)\n",
    "    IQR = Q3 - Q1\n",
    "    data = data[(data[column] >= Q1 - 1.5 * IQR) & (data[column] <= Q3 + 1.5 * IQR)]\n",
    "\n",
    "# Convert categorical variables to lowercase and remove leading/trailing spaces\n",
    "data = data.applymap(lambda x: x.strip().lower() if isinstance(x, str) else x)\n",
    "\n",
    "# Save the cleaned data\n",
    "data.to_csv('cleaned_data.csv', index=False)\n",
    "\n"
   ]
  },
  {
   "cell_type": "markdown",
   "id": "1fab1949",
   "metadata": {},
   "source": [
    "# pair plot using seaborn"
   ]
  },
  {
   "cell_type": "code",
   "execution_count": null,
   "id": "94cf378c",
   "metadata": {},
   "outputs": [],
   "source": [
    "import pandas as pd\n",
    "import seaborn as sns\n",
    "import matplotlib.pyplot as plt\n",
    "\n",
    "# Read data from CSV file (replace 'your_file.csv' with your actual file path)\n",
    "data = pd.read_csv('wine.csv')\n",
    "\n",
    "# Create a pair plot\n",
    "sns.pairplot(data)\n",
    "\n",
    "# Display the plot\n",
    "plt.show()\n",
    "\n",
    "\n"
   ]
  },
  {
   "cell_type": "markdown",
   "id": "a93c0c1c",
   "metadata": {},
   "source": [
    "# box and whisker plot"
   ]
  },
  {
   "cell_type": "code",
   "execution_count": null,
   "id": "b4ad269d",
   "metadata": {},
   "outputs": [],
   "source": [
    "import pandas as pd\n",
    "import seaborn as sns\n",
    "import matplotlib.pyplot as plt\n",
    "\n",
    "# Read data from CSV file (replace 'your_file.csv' with your actual file path)\n",
    "data = pd.read_csv('wine.csv')\n",
    "\n",
    "# Adjust the figure size and aspect ratio\n",
    "plt.figure(figsize=(12, 8))  # Increase width and height as needed\n",
    "\n",
    "# Create box and whisker plots for individual variables\n",
    "sns.boxplot(data=data, orient='v', width=0.5, linewidth=1.5, boxprops=dict(alpha=0.7))\n",
    "\n",
    "# Rotate x-axis labels for better readability\n",
    "plt.xticks(rotation=45, ha='right')\n",
    "\n",
    "# Increase font size for labels and title\n",
    "plt.title('Box and Whisker Plot of Individual Variables', fontsize=16)\n",
    "plt.xlabel('Variables', fontsize=14)\n",
    "plt.ylabel('Values', fontsize=14)\n",
    "\n",
    "# Display the plot\n",
    "plt.tight_layout()\n",
    "plt.show()\n"
   ]
  },
  {
   "cell_type": "code",
   "execution_count": null,
   "id": "a310d0c7",
   "metadata": {},
   "outputs": [],
   "source": [
    "#sharex=True and sharey=True are used to ensure that all subplots share the same x-axis and y-axis, respectively. \n",
    "#This makes it easier to compare the data across the subplots.\n",
    "\n",
    "data.plot(kind='box', subplots=True, layout=(10,6), sharex=False, sharey=False)\n",
    "plt.show()"
   ]
  },
  {
   "cell_type": "markdown",
   "id": "0b3cf845",
   "metadata": {},
   "source": [
    "# histograms"
   ]
  },
  {
   "cell_type": "code",
   "execution_count": null,
   "id": "2f6cc799",
   "metadata": {},
   "outputs": [],
   "source": [
    "#simple histogram of individual variables\n",
    "data.hist()\n",
    "plt.show()"
   ]
  },
  {
   "cell_type": "markdown",
   "id": "2e1e86dd",
   "metadata": {},
   "source": [
    "## this is the same as the first pair plot using seaborn, it renders much faster but is not as neat or easy to read"
   ]
  },
  {
   "cell_type": "code",
   "execution_count": null,
   "id": "5d469523",
   "metadata": {},
   "outputs": [],
   "source": [
    "# scatter plot matrix\n",
    "from pandas.plotting import scatter_matrix\n",
    "import matplotlib.pyplot as plt\n",
    "\n",
    "\n",
    "# Create a scatter matrix, alpha controls transparency of points in scatter\n",
    "scatter_matrix(data, alpha=0.5, figsize=(10, 10), diagonal='hist')\n",
    "\n",
    "# Display the plot\n",
    "plt.show()"
   ]
  },
  {
   "cell_type": "markdown",
   "id": "14f083d7",
   "metadata": {},
   "source": [
    "# violin plot\n",
    "## good for comparing shape,spread, and central tendency of distrib. across multiple categories. good at handling unever data"
   ]
  },
  {
   "cell_type": "code",
   "execution_count": null,
   "id": "eb11c3d9",
   "metadata": {},
   "outputs": [],
   "source": [
    "import pandas as pd\n",
    "import seaborn as sns\n",
    "import matplotlib.pyplot as plt\n",
    "\n",
    "# Read data from CSV file (replace 'your_file.csv' with your actual file path)\n",
    "data = pd.read_csv('abalone.csv')\n",
    "\n",
    "# Create a violin plot\n",
    "plt.figure(figsize=(10, 6))  # Adjust the figure size if needed\n",
    "sns.violinplot(data=data)\n",
    "\n",
    "# Customize plot labels and appearance\n",
    "plt.title('Violin Plot')\n",
    "plt.xlabel('X-axis Label')\n",
    "plt.ylabel('Y-axis Label')\n",
    "\n",
    "# Display the plot\n",
    "plt.tight_layout()\n",
    "plt.show()\n"
   ]
  },
  {
   "cell_type": "markdown",
   "id": "71b21524",
   "metadata": {},
   "source": [
    "# correlation matrix"
   ]
  },
  {
   "cell_type": "code",
   "execution_count": null,
   "id": "cd5eee87",
   "metadata": {},
   "outputs": [],
   "source": [
    "import pandas as pd\n",
    "import seaborn as sns\n",
    "import matplotlib.pyplot as plt\n",
    "\n",
    "# Read data from CSV file (replace 'your_file.csv' with your actual file path)\n",
    "data = pd.read_csv('wine.csv')\n",
    "\n",
    "# Calculate the correlation matrix\n",
    "correlation_matrix = data.corr()\n",
    "\n",
    "# Create a heatmap of the correlation matrix\n",
    "plt.figure(figsize=(10, 8))  # Adjust the figure size if needed\n",
    "sns.heatmap(correlation_matrix, annot=True, cmap='coolwarm', center=0)\n",
    "\n",
    "# Customize plot labels and appearance\n",
    "plt.title('Correlation Matrix Heatmap')\n",
    "plt.xticks(rotation=45)\n",
    "plt.yticks(rotation=0)\n",
    "\n",
    "# Display the plot\n",
    "plt.tight_layout()\n",
    "plt.show()\n"
   ]
  },
  {
   "cell_type": "markdown",
   "id": "da8a528d",
   "metadata": {},
   "source": [
    "# pie chart"
   ]
  },
  {
   "cell_type": "code",
   "execution_count": null,
   "id": "d9e225b8",
   "metadata": {},
   "outputs": [],
   "source": [
    "import pandas as pd\n",
    "import matplotlib.pyplot as plt\n",
    "\n",
    "# Read data from CSV file (replace 'your_file.csv' with your actual file path)\n",
    "data = pd.read_csv('wine.csv')\n",
    "\n",
    "# Group the data by a categorical variable (replace 'category_column' with your column name)\n",
    "grouped_data = data['Alcohol'].value_counts()\n",
    "\n",
    "# Create a pie chart\n",
    "plt.figure(figsize=(8, 8))  # Adjust the figure size if needed\n",
    "plt.pie(grouped_data, labels=grouped_data.index, autopct='%1.1f%%', startangle=140)\n",
    "\n",
    "# Customize plot labels and appearance\n",
    "plt.title('Pie Chart of Categories')\n",
    "\n",
    "# Display the plot\n",
    "plt.axis('equal')  # Equal aspect ratio ensures that the pie is drawn as a circle.\n",
    "plt.show()\n"
   ]
  }
 ],
 "metadata": {
  "kernelspec": {
   "display_name": "Python 3 (ipykernel)",
   "language": "python",
   "name": "python3"
  },
  "language_info": {
   "codemirror_mode": {
    "name": "ipython",
    "version": 3
   },
   "file_extension": ".py",
   "mimetype": "text/x-python",
   "name": "python",
   "nbconvert_exporter": "python",
   "pygments_lexer": "ipython3",
   "version": "3.10.9"
  }
 },
 "nbformat": 4,
 "nbformat_minor": 5
}
