{
 "cells": [
  {
   "cell_type": "markdown",
   "id": "1ca4c8fd",
   "metadata": {},
   "source": [
    "# this code reads in data and performs model selection between logistics Reg, decision tree and random forest"
   ]
  },
  {
   "cell_type": "code",
   "execution_count": null,
   "id": "5d3b7e9e",
   "metadata": {},
   "outputs": [],
   "source": [
    "import pandas as pd\n",
    "from sklearn.model_selection import train_test_split, cross_val_score\n",
    "from sklearn.linear_model import LogisticRegression\n",
    "from sklearn.tree import DecisionTreeClassifier\n",
    "from sklearn.ensemble import RandomForestClassifier\n",
    "from sklearn.metrics import accuracy_score\n",
    "\n",
    "# Load the dataset (replace 'dataset.csv' with your actual dataset file)\n",
    "data = pd.read_csv('dataset.csv')\n",
    "\n",
    "# Assume the target variable is named 'target'\n",
    "X = data.drop('target', axis=1)\n",
    "y = data['target']\n",
    "\n",
    "# Split the data into training and testing sets\n",
    "X_train, X_test, y_train, y_test = train_test_split(X, y, test_size=0.2, random_state=42)\n",
    "\n",
    "# Initialize candidate models\n",
    "logreg_model = LogisticRegression()\n",
    "dt_model = DecisionTreeClassifier()\n",
    "rf_model = RandomForestClassifier()\n",
    "\n",
    "# Perform cross-validation and compare models\n",
    "logreg_scores = cross_val_score(logreg_model, X_train, y_train, cv=5, scoring='accuracy')\n",
    "dt_scores = cross_val_score(dt_model, X_train, y_train, cv=5, scoring='accuracy')\n",
    "rf_scores = cross_val_score(rf_model, X_train, y_train, cv=5, scoring='accuracy')\n",
    "\n",
    "# Select the best model based on cross-validation scores\n",
    "best_model = None\n",
    "best_score = 0.0\n",
    "\n",
    "if logreg_scores.mean() > best_score:\n",
    "    best_model = logreg_model\n",
    "    best_score = logreg_scores.mean()\n",
    "\n",
    "if dt_scores.mean() > best_score:\n",
    "    best_model = dt_model\n",
    "    best_score = dt_scores.mean()\n",
    "\n",
    "if rf_scores.mean() > best_score:\n",
    "    best_model = rf_model\n",
    "    best_score = rf_scores.mean()\n",
    "\n",
    "# Train and evaluate the best model on the test set\n",
    "best_model.fit(X_train, y_train)\n",
    "y_pred = best_model.predict(X_test)\n",
    "accuracy = accuracy_score(y_test, y_pred)\n",
    "print(\"Best Model:\", best_model.__class__.__name__)\n",
    "print(\"Test Accuracy:\", accuracy)\n"
   ]
  }
 ],
 "metadata": {
  "kernelspec": {
   "display_name": "Python 3 (ipykernel)",
   "language": "python",
   "name": "python3"
  },
  "language_info": {
   "codemirror_mode": {
    "name": "ipython",
    "version": 3
   },
   "file_extension": ".py",
   "mimetype": "text/x-python",
   "name": "python",
   "nbconvert_exporter": "python",
   "pygments_lexer": "ipython3",
   "version": "3.10.9"
  }
 },
 "nbformat": 4,
 "nbformat_minor": 5
}
